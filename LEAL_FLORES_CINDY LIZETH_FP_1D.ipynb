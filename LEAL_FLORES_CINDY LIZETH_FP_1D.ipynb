{
  "nbformat": 4,
  "nbformat_minor": 0,
  "metadata": {
    "colab": {
      "provenance": [],
      "authorship_tag": "ABX9TyMfTKCbYfwX6dfIBnq6VRVd",
      "include_colab_link": true
    },
    "kernelspec": {
      "name": "python3",
      "display_name": "Python 3"
    },
    "language_info": {
      "name": "python"
    }
  },
  "cells": [
    {
      "cell_type": "markdown",
      "metadata": {
        "id": "view-in-github",
        "colab_type": "text"
      },
      "source": [
        "<a href=\"https://colab.research.google.com/github/cindyleal8606-create/FUNDAMENTOS-DE-PROGRAMACION/blob/main/LEAL_FLORES_CINDY%20LIZETH_FP_1D.ipynb\" target=\"_parent\"><img src=\"https://colab.research.google.com/assets/colab-badge.svg\" alt=\"Open In Colab\"/></a>"
      ]
    },
    {
      "cell_type": "code",
      "execution_count": 1,
      "metadata": {
        "colab": {
          "base_uri": "https://localhost:8080/"
        },
        "id": "2BM92G8X6biD",
        "outputId": "71f6b67c-aa19-49ce-c19a-07c79187bf61"
      },
      "outputs": [
        {
          "output_type": "stream",
          "name": "stdout",
          "text": [
            "hola mundo soy Cindy\n"
          ]
        }
      ],
      "source": [
        "print(\"hola mundo soy Cindy\")"
      ]
    },
    {
      "cell_type": "markdown",
      "source": [
        "# esto es una prueba"
      ],
      "metadata": {
        "id": "Ph7v_RDX67A2"
      }
    }
  ]
}